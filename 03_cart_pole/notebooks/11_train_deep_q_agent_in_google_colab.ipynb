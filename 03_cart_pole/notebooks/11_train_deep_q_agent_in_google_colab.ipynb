{
 "cells": [
  {
   "cell_type": "markdown",
   "id": "f7893323",
   "metadata": {},
   "source": [
    "[![Open In Colab](https://colab.research.google.com/assets/colab-badge.svg)](https://colab.research.google.com/github/Paulescu/hands-on-rl/blob/main/03_cart_pole/notebooks/11_train_deep_q_agent_in_google_colab.ipynb)\n",
    "\n",
    "# 00 Deep Q agent with full experimentation tracking\n",
    "\n",
    "#### 👉 Let's train a Deep Q agent to solve the [`Cart Pole`](https://gym.openai.com/envs/CartPole-v1/) environment.\n",
    "\n",
    "#### 👉This is the network we will use to represent the optimal Q-function 👇🏽👇🏽👇🏽\n",
    "<!-- <img src=\"https://lever-client-logos.s3.amazonaws.com/bb006941-a5fe-4d4c-b13d-931f9b9c303f-1569362661885.png\" width=\"500\" height=\"400\" /> -->\n",
    "\n"
   ]
  },
  {
   "cell_type": "markdown",
   "id": "7e53d094",
   "metadata": {},
   "source": [
    "![nn](https://raw.githubusercontent.com/Paulescu/hands-on-rl/4c8e064d56c22828c97aa2e3f773050fa36d7d6f/04_cart_pole_tune_hparams_like_a_pro/images/deep_q_net.svg)"
   ]
  },
  {
   "cell_type": "markdown",
   "id": "46aeb3ec",
   "metadata": {},
   "source": [
    "## Setup for Google Colab 🐍⚒️"
   ]
  },
  {
   "cell_type": "code",
   "execution_count": 3,
   "id": "f04e27fe",
   "metadata": {},
   "outputs": [],
   "source": [
    "if 'google.colab' in str(get_ipython()):\n",
    "    \n",
    "    !git clone https://github.com/Paulescu/hands-on-rl.git\n",
    "\n",
    "    # navigate to lesson directory\n",
    "    %cd /content/hands-on-rl/03_cart_pole\n",
    "\n",
    "    # install exact package versions\n",
    "    %pip install -r requirements.txt\n",
    "    print('Go to Runtime > Restart runtime to make sure python uses the exact packages version we just installed.')"
   ]
  },
  {
   "cell_type": "code",
   "execution_count": 4,
   "id": "5fb89306",
   "metadata": {},
   "outputs": [],
   "source": [
    "if 'google.colab' in str(get_ipython()):\n",
    "    %cd /content/hands-on-rl/04_cart_pole_tune_hparams_like_a_pro\n",
    "    !python setup.py install\n",
    "    print('Local package installed!')"
   ]
  },
  {
   "cell_type": "code",
   "execution_count": null,
   "id": "da0401cc",
   "metadata": {},
   "outputs": [],
   "source": [
    "if 'google.colab' in str(get_ipython()):\n",
    "    \n",
    "    !git clone https://github.com/Paulescu/hands-on-rl.git\n",
    "\n",
    "    # navigate to lesson directory\n",
    "    %cd /content/hands-on-rl/03_cart_pole\n",
    "\n",
    "    # install exact package versions\n",
    "    %pip install .\n",
    "    print('Go to Runtime > Restart runtime to make sure python uses the exact packages version we just installed.')"
   ]
  },
  {
   "cell_type": "code",
   "execution_count": null,
   "id": "3242a6ae",
   "metadata": {},
   "outputs": [],
   "source": []
  },
  {
   "cell_type": "markdown",
   "id": "6e62cf1d",
   "metadata": {},
   "source": [
    "-----"
   ]
  },
  {
   "cell_type": "code",
   "execution_count": 5,
   "id": "fd7b5c91",
   "metadata": {},
   "outputs": [
    {
     "name": "stdout",
     "output_type": "stream",
     "text": [
      "Populating the interactive namespace from numpy and matplotlib\n"
     ]
    }
   ],
   "source": [
    "%load_ext autoreload\n",
    "%autoreload 2\n",
    "%pylab inline\n",
    "%config InlineBackend.figure_format = 'svg'"
   ]
  },
  {
   "cell_type": "markdown",
   "id": "6d71e5be",
   "metadata": {},
   "source": [
    "## Environment 🌎"
   ]
  },
  {
   "cell_type": "code",
   "execution_count": 6,
   "id": "bfb033c6",
   "metadata": {},
   "outputs": [],
   "source": [
    "import gym\n",
    "env = gym.make('CartPole-v1')"
   ]
  },
  {
   "cell_type": "markdown",
   "id": "25fb5239",
   "metadata": {},
   "source": [
    "## Log in to your W&B account"
   ]
  },
  {
   "cell_type": "code",
   "execution_count": 7,
   "id": "60339752",
   "metadata": {},
   "outputs": [
    {
     "name": "stderr",
     "output_type": "stream",
     "text": [
      "\u001b[34m\u001b[1mwandb\u001b[0m: Currently logged in as: \u001b[33mpaulescu\u001b[0m (use `wandb login --relogin` to force relogin)\n"
     ]
    },
    {
     "data": {
      "text/plain": [
       "True"
      ]
     },
     "execution_count": 7,
     "metadata": {},
     "output_type": "execute_result"
    }
   ],
   "source": [
    "import wandb\n",
    "\n",
    "wandb.login()"
   ]
  },
  {
   "cell_type": "markdown",
   "id": "2dead3c6",
   "metadata": {},
   "source": [
    "## Start a W&B run"
   ]
  },
  {
   "cell_type": "code",
   "execution_count": 8,
   "id": "548213a4",
   "metadata": {},
   "outputs": [
    {
     "data": {
      "text/html": [
       "\n",
       "                    Syncing run <strong><a href=\"https://wandb.ai/paulescu/deep-q-learning-hyperparameters/runs/hrtc8uyl\" target=\"_blank\">dainty-resonance-12</a></strong> to <a href=\"https://wandb.ai/paulescu/deep-q-learning-hyperparameters\" target=\"_blank\">Weights & Biases</a> (<a href=\"https://docs.wandb.com/integrations/jupyter.html\" target=\"_blank\">docs</a>).<br/>\n",
       "\n",
       "                "
      ],
      "text/plain": [
       "<IPython.core.display.HTML object>"
      ]
     },
     "metadata": {},
     "output_type": "display_data"
    }
   ],
   "source": [
    "run = wandb.init(\n",
    "    project=\"deep-q-learning-hyperparameters\",\n",
    "    entity=\"paulescu\"\n",
    ")"
   ]
  },
  {
   "cell_type": "markdown",
   "id": "4c2e0469",
   "metadata": {},
   "source": [
    "## Hyperparameters"
   ]
  },
  {
   "cell_type": "code",
   "execution_count": 9,
   "id": "2cbf87c7",
   "metadata": {},
   "outputs": [],
   "source": [
    "# Good hyper-parameters\n",
    "# make you feel great!\n",
    "hparams = {\n",
    "    'learning_rate': 0.00016151809562265122,\n",
    "    'discount_factor': 0.99,\n",
    "    'batch_size': 32,\n",
    "    'memory_size': 10000,\n",
    "    'freq_steps_train': 8,\n",
    "    'freq_steps_update_target': 10,\n",
    "    'n_steps_warm_up_memory': 1000,\n",
    "    'n_gradient_steps': 16,\n",
    "    'nn_hidden_layers': [256, 256],\n",
    "    'max_grad_norm': 10,\n",
    "    'normalize_state': False,\n",
    "    'epsilon_start': 0.9,\n",
    "    'epsilon_end': 0.14856584122699473,\n",
    "    'steps_epsilon_decay': 10000,\n",
    "}\n",
    "\n",
    "SEED = 2386916045\n",
    "# SEED = 0"
   ]
  },
  {
   "cell_type": "markdown",
   "id": "ccb5fe3f",
   "metadata": {},
   "source": [
    "### Log hyperparameters"
   ]
  },
  {
   "cell_type": "code",
   "execution_count": 10,
   "id": "71a45359",
   "metadata": {},
   "outputs": [],
   "source": [
    "wandb.config = hparams.copy()\n",
    "wandb.config.update({\"seed\": SEED})"
   ]
  },
  {
   "cell_type": "markdown",
   "id": "f3f4fdb9",
   "metadata": {},
   "source": [
    "## ⚠️ Fix random seeds to ensure reproducible runs"
   ]
  },
  {
   "cell_type": "code",
   "execution_count": 11,
   "id": "dc03521c",
   "metadata": {},
   "outputs": [],
   "source": [
    "from src.utils import set_seed\n",
    "set_seed(env, SEED)"
   ]
  },
  {
   "cell_type": "markdown",
   "id": "abdcf0ea",
   "metadata": {},
   "source": [
    "## Deep Q-Agent"
   ]
  },
  {
   "cell_type": "code",
   "execution_count": 12,
   "id": "9ac5f1e4",
   "metadata": {},
   "outputs": [
    {
     "name": "stdout",
     "output_type": "stream",
     "text": [
      "67,586 parameters\n"
     ]
    }
   ],
   "source": [
    "from src.q_agent import QAgent\n",
    "agent = QAgent(env, **hparams, run=wandb) #run=run)"
   ]
  },
  {
   "cell_type": "markdown",
   "id": "f31c94bc",
   "metadata": {},
   "source": [
    "## Train the agent 🏋️"
   ]
  },
  {
   "cell_type": "code",
   "execution_count": 13,
   "id": "779c0ad2",
   "metadata": {
    "scrolled": true
   },
   "outputs": [
    {
     "name": "stderr",
     "output_type": "stream",
     "text": [
      "100%|██████████████████████████████████████████████████████████████████████████| 200/200 [08:32<00:00,  2.56s/it]\n"
     ]
    }
   ],
   "source": [
    "from src.loops import train\n",
    "train(agent, env, n_episodes=200, run=run)"
   ]
  },
  {
   "cell_type": "markdown",
   "id": "d0c9f72a",
   "metadata": {},
   "source": [
    "## Evaluate the agent ⏱️"
   ]
  },
  {
   "cell_type": "code",
   "execution_count": 14,
   "id": "ec4d363b",
   "metadata": {},
   "outputs": [
    {
     "name": "stderr",
     "output_type": "stream",
     "text": [
      "100%|████████████████████████████████████████████████████████████████████████| 1000/1000 [03:38<00:00,  4.57it/s]"
     ]
    },
    {
     "name": "stdout",
     "output_type": "stream",
     "text": [
      "Reward average 500.00, std 0.00\n"
     ]
    },
    {
     "name": "stderr",
     "output_type": "stream",
     "text": [
      "\n"
     ]
    }
   ],
   "source": [
    "from src.loops import evaluate\n",
    "rewards, steps = evaluate(\n",
    "    agent, env,\n",
    "    n_episodes=1000,\n",
    "    epsilon=0.00\n",
    ")\n",
    "\n",
    "import numpy as np\n",
    "reward_avg = np.array(rewards).mean()\n",
    "reward_std = np.array(rewards).std()\n",
    "print(f'Reward average {reward_avg:.2f}, std {reward_std:.2f}')"
   ]
  },
  {
   "cell_type": "markdown",
   "id": "8912a85e",
   "metadata": {},
   "source": [
    "### Log evaluation metrics"
   ]
  },
  {
   "cell_type": "code",
   "execution_count": 15,
   "id": "14fec9e7",
   "metadata": {},
   "outputs": [],
   "source": [
    "wandb.log({'eval/reward_avg': reward_avg})\n",
    "wandb.log({'eval/reward_std': reward_std})"
   ]
  },
  {
   "cell_type": "markdown",
   "id": "f76f648d",
   "metadata": {},
   "source": [
    "## Plot reward distribution and save it to W&B"
   ]
  },
  {
   "cell_type": "code",
   "execution_count": 16,
   "id": "f349b9a6",
   "metadata": {},
   "outputs": [],
   "source": [
    "import matplotlib.pyplot as plt\n",
    "import pandas as pd\n",
    "\n",
    "fig, ax = plt.subplots(figsize = (10, 4))\n",
    "ax.set_title(\"Rewards\")    \n",
    "pd.Series(rewards).plot(kind='hist', bins=100)\n",
    "\n",
    "wandb.log({\"chart\": plt})\n",
    "\n",
    "plt.show()"
   ]
  },
  {
   "cell_type": "markdown",
   "id": "00a66458",
   "metadata": {},
   "source": [
    "## End of the experiment"
   ]
  },
  {
   "cell_type": "code",
   "execution_count": 17,
   "id": "23084c40",
   "metadata": {},
   "outputs": [
    {
     "data": {
      "text/html": [
       "<br/>Waiting for W&B process to finish, PID 4617... <strong style=\"color:green\">(success).</strong>"
      ],
      "text/plain": [
       "<IPython.core.display.HTML object>"
      ]
     },
     "metadata": {},
     "output_type": "display_data"
    },
    {
     "data": {
      "application/vnd.jupyter.widget-view+json": {
       "model_id": "",
       "version_major": 2,
       "version_minor": 0
      },
      "text/plain": [
       "VBox(children=(Label(value=' 0.01MB of 0.01MB uploaded (0.00MB deduped)\\r'), FloatProgress(value=1.0, max=1.0)…"
      ]
     },
     "metadata": {},
     "output_type": "display_data"
    },
    {
     "data": {
      "text/html": [
       "<style>\n",
       "    table.wandb td:nth-child(1) { padding: 0 10px; text-align: right }\n",
       "    .wandb-row { display: flex; flex-direction: row; flex-wrap: wrap; width: 100% }\n",
       "    .wandb-col { display: flex; flex-direction: column; flex-basis: 100%; flex: 1; padding: 10px; }\n",
       "    </style>\n",
       "<div class=\"wandb-row\"><div class=\"wandb-col\">\n",
       "<h3>Run history:</h3><br/><table class=\"wandb\"><tr><td>eval/reward_avg</td><td>▁</td></tr><tr><td>eval/reward_std</td><td>▁</td></tr><tr><td>train/epsilon</td><td>██████▇▇▇▇▇▇▇▇▇▇▇▆▆▆▆▆▅▅▅▅▄▄▃▃▂▁▁▁▁▁▁▁▁▁</td></tr><tr><td>train/loss</td><td>▁▁▁▂▂▄▃▄▇▅▃▇██▇▅▃▇▅▃▁▂▁▂▁▁▁▁▁▁▁▁▁▁▃▁▄▁▁▁</td></tr><tr><td>train/replay_memory_size</td><td>▁▁▁▁▁▁▂▂▂▂▂▂▂▂▂▂▂▃▃▃▃▃▄▄▄▄▅▅▆▆▇█████████</td></tr><tr><td>train/reward</td><td>▁▁▁▁▁▁▁▁▁▁▁▁▁▁▁▁▁▁▁▁▁▂▃▂▂▂▃▃▃▄▄▄▄▅▅▄▆▆██</td></tr><tr><td>train/steps</td><td>▁▁▁▁▁▁▁▁▁▁▁▁▁▁▁▁▁▁▁▁▁▂▃▂▂▂▃▃▃▄▄▄▄▅▅▄▆▆██</td></tr></table><br/></div><div class=\"wandb-col\">\n",
       "<h3>Run summary:</h3><br/><table class=\"wandb\"><tr><td>eval/reward_avg</td><td>500.0</td></tr><tr><td>eval/reward_std</td><td>0.0</td></tr><tr><td>train/epsilon</td><td>0.14857</td></tr><tr><td>train/loss</td><td>27.68528</td></tr><tr><td>train/replay_memory_size</td><td>10000</td></tr><tr><td>train/reward</td><td>500.0</td></tr><tr><td>train/steps</td><td>500</td></tr></table>\n",
       "</div></div>\n",
       "Synced 5 W&B file(s), 1 media file(s), 0 artifact file(s) and 0 other file(s)\n",
       "<br/>Synced <strong style=\"color:#cdcd00\">dainty-resonance-12</strong>: <a href=\"https://wandb.ai/paulescu/deep-q-learning-hyperparameters/runs/hrtc8uyl\" target=\"_blank\">https://wandb.ai/paulescu/deep-q-learning-hyperparameters/runs/hrtc8uyl</a><br/>\n",
       "Find logs at: <code>./wandb/run-20220222_200544-hrtc8uyl/logs</code><br/>\n"
      ],
      "text/plain": [
       "<IPython.core.display.HTML object>"
      ]
     },
     "metadata": {},
     "output_type": "display_data"
    }
   ],
   "source": [
    "run.finish()"
   ]
  }
 ],
 "metadata": {
  "kernelspec": {
   "display_name": "Python 3 (ipykernel)",
   "language": "python",
   "name": "python3"
  },
  "language_info": {
   "codemirror_mode": {
    "name": "ipython",
    "version": 3
   },
   "file_extension": ".py",
   "mimetype": "text/x-python",
   "name": "python",
   "nbconvert_exporter": "python",
   "pygments_lexer": "ipython3",
   "version": "3.7.5"
  }
 },
 "nbformat": 4,
 "nbformat_minor": 5
}
